{
 "cells": [
  {
   "cell_type": "markdown",
   "metadata": {},
   "source": [
    "# An Analysis of Political Contributions During the 2020 House of Representatives Election\n",
    "\n",
    "In this part, you will obtain as much data as you can on the campaign contributions received by each candidate. This data is avaiable through the website https://www.opensecrets.org/.\n"
   ]
  },
  {
   "cell_type": "code",
   "execution_count": 1,
   "metadata": {},
   "outputs": [],
   "source": [
    "import pandas as pd\n",
    "import requests\n",
    "from bs4 import BeautifulSoup\n",
    "from io import StringIO\n",
    "from IPython.core.display import HTML\n",
    "import tqdm"
   ]
  },
  {
   "cell_type": "markdown",
   "metadata": {},
   "source": [
    "\n",
    "### Part 1: Data Gathering\n",
    "1. Start by acquiring the data from Tennessee's 7th District, which is available at https://www.opensecrets.org/races/summary?cycle=2020&id=TN07&spec=N. If you click the \"Download .csv file\", you can get a csv for this district. However, we don't want to have to click this button across all districts. Instead, we'll use Python to help automate this process. Start by sending a get request to the download button URL, https://www.opensecrets.org/races/summary.csv?cycle=2020&id=TN07. Convert the result to a DataFrame.\n"
   ]
  },
  {
   "cell_type": "code",
   "execution_count": 2,
   "metadata": {},
   "outputs": [],
   "source": [
    "URL = 'https://www.opensecrets.org/races/summary.csv?cycle=2020&id=TN07'\n",
    "response = requests.get(URL)\n",
    "if response.status_code == requests.codes.ok:\n",
    "    soup = BeautifulSoup(response.text, features=\"html.parser\")\n",
    "else:\n",
    "    response.raise_for_status()\n",
    "TN_district7 = pd.read_csv(StringIO(response.text), sep=',')"
   ]
  },
  {
   "cell_type": "markdown",
   "metadata": {},
   "source": [
    "2. Once you have working code for Tennessee's 7th District, expand on your code to capture all of Tennessee's districts into a single DataFrame. Make sure that you can distinguish which district each result came from. Export the results to a csv file.\n"
   ]
  },
  {
   "cell_type": "code",
   "execution_count": 3,
   "metadata": {},
   "outputs": [],
   "source": [
    "URL = 'https://en.wikipedia.org/wiki/List_of_U.S._state_and_territory_abbreviations'\n",
    "states_df = pd.read_html(URL)[1]\n",
    "states_df.columns = states_df.columns.map(lambda x: x[1])\n",
    "states_df = (\n",
    "    states_df\n",
    "    .reset_index()\n",
    "    .drop(columns = ['index', 'Status of region', 'Unnamed: 2_level_1', 'Unnamed: 4_level_1', 'Unnamed: 5_level_1', 'Unnamed: 6_level_1', 'GPO', 'AP', 'Other abbreviations'])\n",
    "    .dropna()\n",
    "    .rename(columns = {'Name': 'State', 'Unnamed: 3_level_1': 'Abbreviation'})\n",
    "    .drop(0).reset_index(drop=True)\n",
    ")\n",
    "states_abr_dict = states_df.set_index('State')['Abbreviation'].to_dict()\n",
    "# states_abr_dict"
   ]
  },
  {
   "cell_type": "markdown",
   "metadata": {},
   "source": [
    "3. Once you have working code for all of Tennessee's districts, expand on it to capture all states and districts. The number of districts for each state can be found at https://en.wikipedia.org/wiki/2020_United_States_House_of_Representatives_elections. You may also find the table of state abbreviations here helpful: https://en.wikipedia.org/wiki/List_of_U.S._state_and_territory_abbreviations. Export a csv file for each state.\n"
   ]
  },
  {
   "cell_type": "code",
   "execution_count": 4,
   "metadata": {},
   "outputs": [],
   "source": [
    "URL = 'https://en.wikipedia.org/wiki/2020_United_States_House_of_Representatives_elections'\n",
    "response = requests.get(URL)\n",
    "if response.status_code == requests.codes.ok:\n",
    "    soup = BeautifulSoup(response.text, features=\"html.parser\")\n",
    "else:\n",
    "    response.raise_for_status()"
   ]
  },
  {
   "cell_type": "code",
   "execution_count": 5,
   "metadata": {},
   "outputs": [],
   "source": [
    "tables_html = str(soup.find_all('table', attrs={'class' : 'wikitable'}))\n",
    "all_states_df = pd.read_html(StringIO(str(tables_html)))[1].fillna('-')\n",
    "all_states_df.columns = all_states_df.columns.map(lambda x: x[1])\n",
    "all_states_df = all_states_df.drop(columns=['Seats', 'Change'])"
   ]
  },
  {
   "cell_type": "code",
   "execution_count": 6,
   "metadata": {},
   "outputs": [],
   "source": [
    "URL = 'https://en.wikipedia.org/wiki/List_of_U.S._state_and_territory_abbreviations'\n",
    "states_df = pd.read_html(URL)[1]\n",
    "states_df.columns = states_df.columns.map(lambda x: x[1])\n",
    "states_df = (\n",
    "    states_df\n",
    "    .reset_index()\n",
    "    .drop(columns = ['index', 'Status of region', 'Unnamed: 2_level_1', 'Unnamed: 4_level_1', 'Unnamed: 5_level_1', 'Unnamed: 6_level_1', 'GPO', 'AP', 'Other abbreviations'])\n",
    "    .dropna()\n",
    "    .rename(columns = {'Name': 'State', 'Unnamed: 3_level_1': 'Abbreviation'})\n",
    "    .drop(0).reset_index(drop=True)\n",
    ")"
   ]
  },
  {
   "cell_type": "code",
   "execution_count": 7,
   "metadata": {},
   "outputs": [],
   "source": [
    "state_representatives_df = pd.merge(left=all_states_df, right=states_df, on='State')\n",
    "# state_representatives_df.head(3)"
   ]
  },
  {
   "cell_type": "markdown",
   "metadata": {},
   "source": [
    "4. Finally, combine all of the data you've gathered together into a single DataFrame."
   ]
  },
  {
   "cell_type": "code",
   "execution_count": 8,
   "metadata": {},
   "outputs": [],
   "source": [
    "# functions moved to data_pull.py\n",
    "import data_pull"
   ]
  },
  {
   "cell_type": "code",
   "execution_count": 9,
   "metadata": {},
   "outputs": [
    {
     "name": "stdout",
     "output_type": "stream",
     "text": [
      "No state by this name. Assuming you meant Arizona.\n"
     ]
    },
    {
     "data": {
      "text/html": [
       "<div>\n",
       "<style scoped>\n",
       "    .dataframe tbody tr th:only-of-type {\n",
       "        vertical-align: middle;\n",
       "    }\n",
       "\n",
       "    .dataframe tbody tr th {\n",
       "        vertical-align: top;\n",
       "    }\n",
       "\n",
       "    .dataframe thead th {\n",
       "        text-align: right;\n",
       "    }\n",
       "</style>\n",
       "<table border=\"1\" class=\"dataframe\">\n",
       "  <thead>\n",
       "    <tr style=\"text-align: right;\">\n",
       "      <th></th>\n",
       "      <th>State_Abbreviation</th>\n",
       "      <th>District</th>\n",
       "      <th>cid</th>\n",
       "      <th>FirstLastP</th>\n",
       "      <th>Rcpts</th>\n",
       "      <th>Spent</th>\n",
       "      <th>PACs</th>\n",
       "      <th>Indivs</th>\n",
       "      <th>Cand</th>\n",
       "      <th>Other</th>\n",
       "      <th>...</th>\n",
       "      <th>Result</th>\n",
       "      <th>CRPICO</th>\n",
       "      <th>State</th>\n",
       "      <th>IncCID</th>\n",
       "      <th>Incumbent</th>\n",
       "      <th>primarydate</th>\n",
       "      <th>DistIDCurr</th>\n",
       "      <th>capeye</th>\n",
       "      <th>sort</th>\n",
       "      <th>SmLgIndivsNote</th>\n",
       "    </tr>\n",
       "  </thead>\n",
       "  <tbody>\n",
       "    <tr>\n",
       "      <th>0</th>\n",
       "      <td>AZ</td>\n",
       "      <td>02</td>\n",
       "      <td>N00029260</td>\n",
       "      <td>Ann Kirkpatrick (D)</td>\n",
       "      <td>1849861.51</td>\n",
       "      <td>1384764.75</td>\n",
       "      <td>690001.0</td>\n",
       "      <td>1182656.78</td>\n",
       "      <td>0.0</td>\n",
       "      <td>-22796.27</td>\n",
       "      <td>...</td>\n",
       "      <td>W</td>\n",
       "      <td>I</td>\n",
       "      <td>Arizona</td>\n",
       "      <td>NaN</td>\n",
       "      <td>NaN</td>\n",
       "      <td>2020-08-04 00:00:00 +0000</td>\n",
       "      <td>AZ02</td>\n",
       "      <td>0</td>\n",
       "      <td>1</td>\n",
       "      <td>N</td>\n",
       "    </tr>\n",
       "    <tr>\n",
       "      <th>1</th>\n",
       "      <td>AZ</td>\n",
       "      <td>02</td>\n",
       "      <td>N00042605</td>\n",
       "      <td>Brandon Martin (R)</td>\n",
       "      <td>374820.55</td>\n",
       "      <td>381067.07</td>\n",
       "      <td>6000.0</td>\n",
       "      <td>374040.55</td>\n",
       "      <td>0.0</td>\n",
       "      <td>-5220.00</td>\n",
       "      <td>...</td>\n",
       "      <td>L</td>\n",
       "      <td>C</td>\n",
       "      <td>Arizona</td>\n",
       "      <td>NaN</td>\n",
       "      <td>NaN</td>\n",
       "      <td>2020-08-04 00:00:00 +0000</td>\n",
       "      <td></td>\n",
       "      <td>0</td>\n",
       "      <td>2</td>\n",
       "      <td>N</td>\n",
       "    </tr>\n",
       "    <tr>\n",
       "      <th>2</th>\n",
       "      <td>AZ</td>\n",
       "      <td>02</td>\n",
       "      <td>N00044751</td>\n",
       "      <td>Iman-Utopia Layjou Bah (I)</td>\n",
       "      <td>0.00</td>\n",
       "      <td>0.00</td>\n",
       "      <td>0.0</td>\n",
       "      <td>0.00</td>\n",
       "      <td>0.0</td>\n",
       "      <td>0.00</td>\n",
       "      <td>...</td>\n",
       "      <td></td>\n",
       "      <td>C</td>\n",
       "      <td>Arizona</td>\n",
       "      <td>NaN</td>\n",
       "      <td>NaN</td>\n",
       "      <td>2020-08-04 00:00:00 +0000</td>\n",
       "      <td>NaN</td>\n",
       "      <td>0</td>\n",
       "      <td>2</td>\n",
       "      <td>N</td>\n",
       "    </tr>\n",
       "  </tbody>\n",
       "</table>\n",
       "<p>3 rows × 26 columns</p>\n",
       "</div>"
      ],
      "text/plain": [
       "  State_Abbreviation District        cid                  FirstLastP  \\\n",
       "0                 AZ       02  N00029260         Ann Kirkpatrick (D)   \n",
       "1                 AZ       02  N00042605          Brandon Martin (R)   \n",
       "2                 AZ       02  N00044751  Iman-Utopia Layjou Bah (I)   \n",
       "\n",
       "        Rcpts       Spent      PACs      Indivs  Cand     Other  ...  Result  \\\n",
       "0  1849861.51  1384764.75  690001.0  1182656.78   0.0 -22796.27  ...       W   \n",
       "1   374820.55   381067.07    6000.0   374040.55   0.0  -5220.00  ...       L   \n",
       "2        0.00        0.00       0.0        0.00   0.0      0.00  ...           \n",
       "\n",
       "   CRPICO    State IncCID Incumbent                primarydate DistIDCurr  \\\n",
       "0       I  Arizona    NaN       NaN  2020-08-04 00:00:00 +0000       AZ02   \n",
       "1       C  Arizona    NaN       NaN  2020-08-04 00:00:00 +0000              \n",
       "2       C  Arizona    NaN       NaN  2020-08-04 00:00:00 +0000        NaN   \n",
       "\n",
       "  capeye sort  SmLgIndivsNote  \n",
       "0      0    1               N  \n",
       "1      0    2               N  \n",
       "2      0    2               N  \n",
       "\n",
       "[3 rows x 26 columns]"
      ]
     },
     "execution_count": 9,
     "metadata": {},
     "output_type": "execute_result"
    }
   ],
   "source": [
    "data_pull.retrieve_2020_state_district_data('arizind', 2)"
   ]
  },
  {
   "cell_type": "code",
   "execution_count": 10,
   "metadata": {},
   "outputs": [],
   "source": [
    "# data_pull.get_all_data(state_representatives_df)#.to_csv('all_states_reps.csv', index=False)"
   ]
  }
 ],
 "metadata": {
  "kernelspec": {
   "display_name": "base",
   "language": "python",
   "name": "python3"
  },
  "language_info": {
   "codemirror_mode": {
    "name": "ipython",
    "version": 3
   },
   "file_extension": ".py",
   "mimetype": "text/x-python",
   "name": "python",
   "nbconvert_exporter": "python",
   "pygments_lexer": "ipython3",
   "version": "3.12.4"
  }
 },
 "nbformat": 4,
 "nbformat_minor": 2
}
